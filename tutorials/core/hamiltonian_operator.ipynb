{
 "cells": [
  {
   "cell_type": "markdown",
   "metadata": {},
   "source": [
    "# HamiltonianOperator\n",
    "\n",
    "This class provides a symbolic representation of a Hamiltonian operator. Both constant and time-dependent Hamiltonians are supported.\n",
    "\n",
    "The general form of a HamiltonianOperator is\n",
    "\n",
    "$$\\sum_i f_i \\, P_i,$$\n",
    "\n",
    "where $f_i$ are functions (or constants) and $P_i$ are PauliStrings.\n",
    "\n",
    "The internal structure is a dictionary of functions paired with one or more PauliStrings."
   ]
  },
  {
   "cell_type": "code",
   "metadata": {
    "ExecuteTime": {
     "end_time": "2025-01-01T15:08:35.589889Z",
     "start_time": "2025-01-01T15:08:34.445507Z"
    }
   },
   "source": [
    "from magpy import HamiltonianOperator as HOp, PauliString as PS, X, Y, Z\n",
    "import numpy as np"
   ],
   "outputs": [],
   "execution_count": 1
  },
  {
   "cell_type": "markdown",
   "metadata": {},
   "source": [
    "\n",
    "---\n",
    "\n",
    "### Instantiation\n",
    "\n",
    "The constructor takes a variable number of two element lists, which are coefficient-PauliString pairs. The coefficients may be functions or constants.\n",
    "\n",
    "For example,\n",
    "\n",
    "$$H = \\sin(t)(\\sigma_x \\otimes \\text{Id}) + \\cos(t)(\\text{Id} \\otimes \\sigma_y) + 2(\\sigma_x\\otimes\\sigma_z)$$\n",
    "\n",
    "may be written as"
   ]
  },
  {
   "cell_type": "code",
   "metadata": {
    "ExecuteTime": {
     "end_time": "2025-01-01T15:08:35.599218Z",
     "start_time": "2025-01-01T15:08:35.594650Z"
    }
   },
   "source": [
    "H = HOp([np.sin, X(1)], [np.cos, Y(2)], [2, PS(x=1, z=2)])\n",
    "H"
   ],
   "outputs": [
    {
     "data": {
      "text/plain": [
       "{1: 2*X1*Z2, <ufunc 'sin'>: X1, <ufunc 'cos'>: Y2}"
      ]
     },
     "execution_count": 2,
     "metadata": {},
     "output_type": "execute_result"
    }
   ],
   "execution_count": 2
  },
  {
   "cell_type": "markdown",
   "metadata": {},
   "source": [
    "As with PauliStrings and FunctionProducts, there is a better way to construct HamiltonianOperators. The same operator can be written as:"
   ]
  },
  {
   "cell_type": "code",
   "metadata": {
    "ExecuteTime": {
     "end_time": "2025-01-01T15:08:35.669870Z",
     "start_time": "2025-01-01T15:08:35.667639Z"
    }
   },
   "source": [
    "H = np.sin*X(1) + np.cos*Y(2) + 2*X(1)*Z(2)"
   ],
   "outputs": [],
   "execution_count": 3
  },
  {
   "cell_type": "markdown",
   "metadata": {},
   "source": [
    "This form reads in the same manner as the mathematical definition above.\n",
    "\n",
    "---\n",
    "\n",
    "### Addition\n",
    "\n",
    "HamiltonianOperators may be summed.\n",
    "\n",
    "Example:\n",
    "\n",
    "$$\n",
    "\\begin{aligned}\n",
    "H &= \\sin(t) \\, (\\sigma_x \\otimes \\sigma_y) + 3 \\, (\\sigma_x \\otimes \\sigma_z)\\\\\n",
    "G &= \\cos(t) \\, (\\sigma_x \\otimes \\text{Id}) + 2 \\, (\\sigma_y \\otimes \\sigma_z)\n",
    "\\end{aligned}\n",
    "$$\n",
    "\n",
    "$$H + G = \\sin(t)\\,(\\sigma_x \\otimes \\sigma_y) + \\cos(t) \\, (\\sigma_x \\otimes \\text{Id}) + 2 \\, (\\sigma_y \\otimes \\sigma_z) + 3 \\, (\\sigma_x \\otimes \\sigma_z)$$"
   ]
  },
  {
   "cell_type": "code",
   "metadata": {
    "ExecuteTime": {
     "end_time": "2025-01-01T15:08:35.715637Z",
     "start_time": "2025-01-01T15:08:35.711632Z"
    }
   },
   "source": [
    "H = np.sin*X(1)*Y(2) + 3*X(1)*Z(2)\n",
    "G = np.cos*X(1) + 2*Y(1)*Z(2)\n",
    "H + G"
   ],
   "outputs": [
    {
     "data": {
      "text/plain": [
       "{1: [3*X1*Z2, 2*Y1*Z2], <ufunc 'sin'>: X1*Y2, <ufunc 'cos'>: X1}"
      ]
     },
     "execution_count": 4,
     "metadata": {},
     "output_type": "execute_result"
    }
   ],
   "execution_count": 4
  },
  {
   "cell_type": "markdown",
   "metadata": {},
   "source": [
    "Here we can see how constant terms are grouped when simplifying."
   ]
  },
  {
   "cell_type": "markdown",
   "metadata": {},
   "source": [
    "\n",
    "---\n",
    "\n",
    "### Scalar multiplication\n",
    "\n",
    "Multiplying by a scalar will distribute the scalar over the PauliStrings within the operator. This reduces the complexity of the coefficients."
   ]
  },
  {
   "cell_type": "code",
   "metadata": {
    "ExecuteTime": {
     "end_time": "2025-01-01T15:08:35.762982Z",
     "start_time": "2025-01-01T15:08:35.759555Z"
    }
   },
   "source": [
    "H = np.sin*X(1)*Y(2) + 3*X(1)*Z(2)\n",
    "2 * H"
   ],
   "outputs": [
    {
     "data": {
      "text/plain": [
       "{1: 6*X1*Z2, <ufunc 'sin'>: 2*X1*Y2}"
      ]
     },
     "execution_count": 5,
     "metadata": {},
     "output_type": "execute_result"
    }
   ],
   "execution_count": 5
  },
  {
   "cell_type": "markdown",
   "metadata": {},
   "source": [
    "\n",
    "---\n",
    "\n",
    "### Function multiplication\n",
    "\n",
    "Multiplying by a function behaves in the same manner as scalars. Each coefficient in the operator is changed to a FunctionProduct to accommodate the product."
   ]
  },
  {
   "cell_type": "code",
   "metadata": {
    "ExecuteTime": {
     "end_time": "2025-01-01T15:08:35.809057Z",
     "start_time": "2025-01-01T15:08:35.806081Z"
    }
   },
   "source": [
    "np.sin * H"
   ],
   "outputs": [
    {
     "data": {
      "text/plain": [
       "{1*{<ufunc 'sin'>: 1}: 3*X1*Z2, 1*{<ufunc 'sin'>: 2}: X1*Y2}"
      ]
     },
     "execution_count": 6,
     "metadata": {},
     "output_type": "execute_result"
    }
   ],
   "execution_count": 6
  },
  {
   "cell_type": "markdown",
   "metadata": {},
   "source": [
    "\n",
    "---\n",
    "\n",
    "### Composition\n",
    "\n",
    "MagPy will distribute and simplify algebraically when composition HamiltonianOperators.\n",
    "\n",
    "Using the same $H$ and $G$ from above,\n",
    "$$HG = -2\\sin(t)(\\sigma_z \\otimes \\sigma_x) + 6i(\\sigma_z \\otimes \\text{Id}).$$"
   ]
  },
  {
   "cell_type": "code",
   "metadata": {
    "ExecuteTime": {
     "end_time": "2025-01-01T15:08:35.857226Z",
     "start_time": "2025-01-01T15:08:35.854199Z"
    }
   },
   "source": [
    "H * G"
   ],
   "outputs": [
    {
     "data": {
      "text/plain": [
       "{1: 6j*Z1, <ufunc 'sin'>: (-2+0j)*Z1*X2, <ufunc 'cos'>: 3*Z2, 1*{<ufunc 'sin'>: 1, <ufunc 'cos'>: 1}: Y2}"
      ]
     },
     "execution_count": 7,
     "metadata": {},
     "output_type": "execute_result"
    }
   ],
   "execution_count": 7
  },
  {
   "cell_type": "markdown",
   "metadata": {},
   "source": [
    "\n",
    "---\n",
    "\n",
    "### Equality\n",
    "\n",
    "Two HamiltonianOperators are said to be equal if they share their internal dictionaries share the same coefficients and corresponding PauliStrings."
   ]
  },
  {
   "cell_type": "code",
   "metadata": {
    "ExecuteTime": {
     "end_time": "2025-01-01T15:08:35.905885Z",
     "start_time": "2025-01-01T15:08:35.902511Z"
    }
   },
   "source": [
    "np.sin*X(1)*Y(2) + 3*X(1)*Z(2) == 3*Z(2)*X(1) + np.sin*X(1)*Y(2)"
   ],
   "outputs": [
    {
     "data": {
      "text/plain": [
       "True"
      ]
     },
     "execution_count": 8,
     "metadata": {},
     "output_type": "execute_result"
    }
   ],
   "execution_count": 8
  }
 ],
 "metadata": {
  "kernelspec": {
   "display_name": ".venv",
   "language": "python",
   "name": "python3"
  },
  "language_info": {
   "codemirror_mode": {
    "name": "ipython",
    "version": 3
   },
   "file_extension": ".py",
   "mimetype": "text/x-python",
   "name": "python",
   "nbconvert_exporter": "python",
   "pygments_lexer": "ipython3",
   "version": "3.10.12"
  }
 },
 "nbformat": 4,
 "nbformat_minor": 2
}
