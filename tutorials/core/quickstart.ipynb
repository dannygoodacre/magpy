{
 "cells": [
  {
   "metadata": {},
   "cell_type": "markdown",
   "source": [
    "# Quickstart: core classes\n",
    "\n",
    "MagPy provides three core class structures for representing quantum operators:\n",
    "\n",
    "- PauliString\n",
    "- HamiltonianOperator\n",
    "- FunctionProduct\n",
    "\n",
    "The algebra of these objects has been defined such that one may construct these operators in code in a manner similar to that of mathematics."
   ]
  },
  {
   "metadata": {
    "ExecuteTime": {
     "end_time": "2025-01-01T15:02:46.674481Z",
     "start_time": "2025-01-01T15:02:45.546012Z"
    }
   },
   "cell_type": "code",
   "source": [
    "from magpy import X, Y, FunctionProduct as FP\n",
    "import numpy as np"
   ],
   "outputs": [],
   "execution_count": 4
  },
  {
   "cell_type": "markdown",
   "metadata": {},
   "source": [
    "\n",
    "---\n",
    "\n",
    "## PauliString\n",
    "\n",
    "Operators of one or more qubits (and identity).\n",
    "\n",
    "The methods `PS.X()`, `PS.Y()`, `PS.Z()` construct operators formed solely of the respective Pauli operators, taking as arguments the indices at which to insert the operators. In code, the presence of identity operators and the number of qubits is inferred. No arguments impl a single qubit.\n",
    "\n",
    "Example:\n",
    "\n",
    "$$\n",
    "\\begin{aligned}\n",
    "A &= 3 \\, (\\sigma_x \\otimes \\text{Id} \\otimes \\sigma_x \\otimes \\sigma_y) \\\\\n",
    "B &= \\sigma_y \\otimes \\sigma_x \\otimes \\text{Id} \\otimes \\text{Id}\n",
    "\\end{aligned}\n",
    "$$"
   ]
  },
  {
   "cell_type": "code",
   "metadata": {
    "ExecuteTime": {
     "end_time": "2025-01-01T15:03:49.600200Z",
     "start_time": "2025-01-01T15:03:49.597319Z"
    }
   },
   "source": [
    "A = 3 * X() * X(3) * Y(4)\n",
    "B = Y(1) * X(2)\n",
    "\n",
    "print(A)\n",
    "print(B)\n",
    "print(A*B)"
   ],
   "outputs": [
    {
     "name": "stdout",
     "output_type": "stream",
     "text": [
      "3*X1*X3*Y4\n",
      "Y1*X2\n",
      "3j*Z1*X2*X3*Y4\n"
     ]
    }
   ],
   "execution_count": 11
  },
  {
   "cell_type": "markdown",
   "metadata": {},
   "source": [
    "\n",
    "---\n",
    "\n",
    "## FunctionProduct\n",
    "\n",
    "Inserting `FP()` at the start of a product of functions will combine them accordingly. FunctionProducts can in turn be multiplied by other instances and functions.\n",
    "\n",
    "Example:\n",
    "\n",
    "$$\n",
    "\\begin{aligned}\n",
    "f(t) &= \\sin^2(t) \\\\\n",
    "g(t) &= t^2 f(t)\n",
    "\\end{aligned}$$"
   ]
  },
  {
   "cell_type": "code",
   "metadata": {
    "ExecuteTime": {
     "end_time": "2025-01-01T15:03:47.917155Z",
     "start_time": "2025-01-01T15:03:47.913649Z"
    }
   },
   "source": [
    "f = FP() * np.sin * np.sin\n",
    "g = (lambda t : t**2) * f\n",
    "\n",
    "print(g)\n",
    "print(g(np.pi / 2))"
   ],
   "outputs": [
    {
     "name": "stdout",
     "output_type": "stream",
     "text": [
      "sin^2*<lambda>\n",
      "tensor(2.4674)\n"
     ]
    }
   ],
   "execution_count": 10
  },
  {
   "cell_type": "markdown",
   "metadata": {},
   "source": [
    "\n",
    "---\n",
    "\n",
    "## HamiltonianOperator\n",
    "\n",
    "Combining functions and PauliStrings, one may create Hamiltonian operators.\n",
    "\n",
    "Example:\n",
    "\n",
    "$$\n",
    "\\begin{aligned}\n",
    "H &= \\sin(t) \\, (\\sigma_x \\otimes \\text{Id}) \\\\\n",
    "G &= \\cos(t) \\, (\\text{Id} \\otimes \\sigma_y)\n",
    "\\end{aligned}\n",
    "$$"
   ]
  },
  {
   "cell_type": "code",
   "metadata": {
    "ExecuteTime": {
     "end_time": "2025-01-01T15:03:34.641516Z",
     "start_time": "2025-01-01T15:03:34.638780Z"
    }
   },
   "source": [
    "H = np.sin * X(1)\n",
    "G = np.cos * Y(2)\n",
    "\n",
    "print(H)\n",
    "print(G)"
   ],
   "outputs": [
    {
     "name": "stdout",
     "output_type": "stream",
     "text": [
      "sin*X1\n",
      "cos*Y2\n"
     ]
    }
   ],
   "execution_count": 7
  },
  {
   "cell_type": "markdown",
   "metadata": {},
   "source": [
    "These may be summed and composed:\n",
    "\n",
    "$$\n",
    "\\begin{aligned}\n",
    "H + G &= \\sin(t) \\, (\\sigma_x \\otimes \\text{Id}) + \\cos(t) \\, (\\text{Id} \\otimes \\sigma_y) \\\\\n",
    "HG &= \\sin(t)\\cos(t) \\, (\\sigma_x \\otimes \\sigma_y)\n",
    "\\end{aligned}\n",
    "$$"
   ]
  },
  {
   "cell_type": "code",
   "metadata": {
    "ExecuteTime": {
     "end_time": "2025-01-01T15:03:41.945887Z",
     "start_time": "2025-01-01T15:03:41.943292Z"
    }
   },
   "source": [
    "print(H + G)\n",
    "print(H*G)"
   ],
   "outputs": [
    {
     "name": "stdout",
     "output_type": "stream",
     "text": [
      "sin*X1 + cos*Y2\n",
      "sin*cos*Y2\n"
     ]
    }
   ],
   "execution_count": 9
  }
 ],
 "metadata": {
  "kernelspec": {
   "display_name": ".venv",
   "language": "python",
   "name": "python3"
  },
  "language_info": {
   "codemirror_mode": {
    "name": "ipython",
    "version": 3
   },
   "file_extension": ".py",
   "mimetype": "text/x-python",
   "name": "python",
   "nbconvert_exporter": "python",
   "pygments_lexer": "ipython3",
   "version": "3.10.12"
  }
 },
 "nbformat": 4,
 "nbformat_minor": 2
}
