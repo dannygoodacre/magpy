{
 "cells": [
  {
   "cell_type": "markdown",
   "metadata": {},
   "source": [
    "# MagPy quickstart guide\n",
    "\n",
    "MagPy provides functionality for evolving quantum systems under a magnetic field, utilising the Magnus expansion and the the highly parallelised nature of CUDA computation via PyTorch.\n",
    "\n",
    "Specifically, we may simulate the evolution of density matrices with respect to the Liouville-von Neumann equation,\n",
    "\n",
    "$$\\frac{\\partial \\rho(t)}{\\partial t} = -i\\,\\big[H(t),\\,\\rho(t)\\big],$$\n",
    "\n",
    "with initial condition $\\rho_0.$\n",
    "\n",
    "## Pauli Strings\n",
    "\n",
    "These objects are the fundamental building blocks of quantum objects in MagPy. The Pauli spin operators are accessed with the functions `X`, `Y`, and `Z`. These provide a symbolic representation which we may manipulate algebraically. "
   ]
  },
  {
   "cell_type": "code",
   "execution_count": 13,
   "metadata": {},
   "outputs": [
    {
     "name": "stdout",
     "output_type": "stream",
     "text": [
      "(-3+0j)*Z1*Y2\n",
      "{1: [5*X1, 5*Y1]}\n"
     ]
    }
   ],
   "source": [
    "from magpy import X, Y, Z\n",
    "\n",
    "print(3j * X(1) * Y(1, 2))\n",
    "print(5 * (X() + Y()))"
   ]
  },
  {
   "cell_type": "markdown",
   "metadata": {},
   "source": [
    "The matrix representation of these matrices may also be accessed:"
   ]
  },
  {
   "cell_type": "code",
   "execution_count": 15,
   "metadata": {},
   "outputs": [
    {
     "name": "stdout",
     "output_type": "stream",
     "text": [
      "{1: [1*X1, 3*Y2]}\n",
      "tensor([[0.+0.j, 0.-3.j, 1.+0.j, 0.+0.j],\n",
      "        [0.+3.j, 0.+0.j, 0.+0.j, 1.+0.j],\n",
      "        [1.+0.j, 0.+0.j, 0.+0.j, 0.-3.j],\n",
      "        [0.+0.j, 1.+0.j, 0.+3.j, 0.+0.j]], dtype=torch.complex128)\n"
     ]
    }
   ],
   "source": [
    "a = X() + 3*Y(2)\n",
    "\n",
    "print(a)\n",
    "print(a())"
   ]
  },
  {
   "cell_type": "markdown",
   "metadata": {},
   "source": [
    "## Hamiltonians\n",
    "\n",
    "The functions `X`, `Y`, and `Z`, enable us to write Hamiltonians and density matrices mathematically:"
   ]
  },
  {
   "cell_type": "code",
   "execution_count": 2,
   "metadata": {},
   "outputs": [],
   "source": [
    "import torch\n",
    "from magpy import X, Y\n",
    "\n",
    "H = torch.sin*X() + 4*Y()\n",
    "rho0 = Y()"
   ]
  },
  {
   "cell_type": "markdown",
   "metadata": {},
   "source": [
    "# Simulating a quantum system\n",
    "\n",
    "Given a Hamiltonian and initial condition, we can simulate its evolution over a specified discretisation of time using the `System` class:"
   ]
  },
  {
   "cell_type": "code",
   "execution_count": 3,
   "metadata": {},
   "outputs": [],
   "source": [
    "import magpy as mp\n",
    "\n",
    "tlist = mp.timegrid(0, 10, 0.5**6)\n",
    "qsys = mp.System(H, rho0, tlist)\n",
    "qsys.evolve()"
   ]
  },
  {
   "cell_type": "markdown",
   "metadata": {},
   "source": [
    "The results of which are stored in the `state` attribute of the `System` instance."
   ]
  },
  {
   "cell_type": "code",
   "execution_count": 5,
   "metadata": {},
   "outputs": [
    {
     "data": {
      "text/plain": [
       "tensor([[[ 0.0000e+00+0.0000e+00j,  0.0000e+00-1.0000e+00j],\n",
       "         [ 0.0000e+00+1.0000e+00j,  0.0000e+00+0.0000e+00j]],\n",
       "\n",
       "        [[ 2.4350e-04+0.0000e+00j,  1.5239e-05-1.0000e+00j],\n",
       "         [ 1.5239e-05+1.0000e+00j, -2.4350e-04+0.0000e+00j]],\n",
       "\n",
       "        [[ 9.7013e-04-6.9389e-18j,  9.1190e-05-1.0000e+00j],\n",
       "         [ 9.1190e-05+1.0000e+00j, -9.7015e-04+0.0000e+00j]]],\n",
       "       dtype=torch.complex128)"
      ]
     },
     "execution_count": 5,
     "metadata": {},
     "output_type": "execute_result"
    }
   ],
   "source": [
    "qsys.states[0:3]"
   ]
  }
 ],
 "metadata": {
  "kernelspec": {
   "display_name": ".venv",
   "language": "python",
   "name": "python3"
  },
  "language_info": {
   "codemirror_mode": {
    "name": "ipython",
    "version": 3
   },
   "file_extension": ".py",
   "mimetype": "text/x-python",
   "name": "python",
   "nbconvert_exporter": "python",
   "pygments_lexer": "ipython3",
   "version": "3.10.12"
  }
 },
 "nbformat": 4,
 "nbformat_minor": 2
}
