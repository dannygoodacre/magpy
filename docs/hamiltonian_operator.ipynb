{
 "cells": [
  {
   "cell_type": "markdown",
   "id": "bf2fd89d",
   "metadata": {},
   "source": [
    "# HamiltonianOperator\n",
    "\n",
    "The `HamiltonianOperator` class represents any linear combination of Pauli string operators with functional coefficients:\n",
    "\n",
    "$$\n",
    "\\sum_i f_i \\bigotimes_{j=1}^n \\sigma_j, \\;\\; f_i \\in \\mathbb{C}, \\;\\; \\sigma_j \\in \\{\\hat{I}, \\hat{X}, \\hat{Y}, \\hat{Z}\\}.\n",
    "$$\n",
    "\n",
    "---\n",
    "\n",
    "# Construction\n",
    "\n",
    "To instantiate the operator,\n",
    "\n",
    "$$\n",
    "H = \\sin(t)\\,\\hat{X}\\hat{Z} + 3\\,\\hat{I}\\hat{Y},\n",
    "$$\n",
    "\n",
    "we write"
   ]
  },
  {
   "cell_type": "code",
   "execution_count": 1,
   "id": "6a3ba6bc",
   "metadata": {},
   "outputs": [
    {
     "data": {
      "text/plain": [
       "3*Y2 + sin*X1*Z2"
      ]
     },
     "execution_count": 1,
     "metadata": {},
     "output_type": "execute_result"
    }
   ],
   "source": [
    "from magpy import HamiltonianOperator as HOp, X, Y, Z, Id\n",
    "from torch import tensor, stack, sin, cos\n",
    "\n",
    "HOp([sin, X(1) * Z(2)], [3, Id() * Y(2)])"
   ]
  },
  {
   "cell_type": "markdown",
   "id": "639f7a14",
   "metadata": {},
   "source": [
    "However, as with `PauliString` instances, there is a more natural way to instantiate the operator:"
   ]
  },
  {
   "cell_type": "code",
   "execution_count": 6,
   "id": "fb17f4e4",
   "metadata": {},
   "outputs": [
    {
     "data": {
      "text/plain": [
       "3*Y2 + sin*X1*Z2"
      ]
     },
     "execution_count": 6,
     "metadata": {},
     "output_type": "execute_result"
    }
   ],
   "source": [
    "3*Y(2) + sin*X()*Z(2)"
   ]
  },
  {
   "cell_type": "markdown",
   "id": "0f3b3082",
   "metadata": {},
   "source": [
    "---\n",
    "\n",
    "# Summation\n",
    "\n",
    "`HamiltonianOperator` instances sum as expected:\n",
    "\n",
    "$$\n",
    "\\begin{aligned}\n",
    "H &= \\sin(t)\\,\\hat{X} + 2\\,\\hat{Z} \\\\\n",
    "G &= \\cos(t)\\,\\hat{Y} + 3\\,\\hat{Z}\n",
    "\\end{aligned}\n",
    "$$\n",
    "\n",
    "$$\n",
    "H + G = \\sin(t)\\,\\hat{X} + \\cos(t)\\,\\hat{Y} + 6\\,\\hat{Z}\n",
    "$$"
   ]
  },
  {
   "cell_type": "code",
   "execution_count": 7,
   "id": "9612fc3a",
   "metadata": {},
   "outputs": [
    {
     "data": {
      "text/plain": [
       "5*Z1 + sin*X1 + 2*cos*Y1"
      ]
     },
     "execution_count": 7,
     "metadata": {},
     "output_type": "execute_result"
    }
   ],
   "source": [
    "H = sin*X() + cos*Y() + 2*Z()\n",
    "G = cos*Y() + 3*Z()\n",
    "\n",
    "H + G"
   ]
  },
  {
   "cell_type": "markdown",
   "id": "e3d9d374",
   "metadata": {},
   "source": [
    "---\n",
    "\n",
    "# Evaluation\n",
    "\n",
    "Calling the operator will return it's matrix representation."
   ]
  },
  {
   "cell_type": "code",
   "execution_count": 8,
   "id": "0db45324",
   "metadata": {},
   "outputs": [
    {
     "data": {
      "text/plain": [
       "tensor([[0.0000+0.j, 0.8415+0.j],\n",
       "        [0.8415+0.j, 0.0000+0.j]], dtype=torch.complex128)"
      ]
     },
     "execution_count": 8,
     "metadata": {},
     "output_type": "execute_result"
    }
   ],
   "source": [
    "H = sin*X()\n",
    "\n",
    "H(tensor(1))"
   ]
  },
  {
   "cell_type": "markdown",
   "id": "59f98cc7",
   "metadata": {},
   "source": [
    "MagPy also supports tensor-valued functions and time arguments, batch-evaluating accordingly. See [here](batching.ipynb) for more details."
   ]
  }
 ],
 "metadata": {
  "kernelspec": {
   "display_name": "magpy",
   "language": "python",
   "name": "python3"
  },
  "language_info": {
   "codemirror_mode": {
    "name": "ipython",
    "version": 3
   },
   "file_extension": ".py",
   "mimetype": "text/x-python",
   "name": "python",
   "nbconvert_exporter": "python",
   "pygments_lexer": "ipython3",
   "version": "3.13.3"
  }
 },
 "nbformat": 4,
 "nbformat_minor": 5
}
