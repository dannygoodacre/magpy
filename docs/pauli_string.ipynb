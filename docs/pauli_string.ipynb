{
 "cells": [
  {
   "cell_type": "markdown",
   "id": "a84f6178",
   "metadata": {},
   "source": [
    "# PauliString\n",
    "\n",
    "The `PauliString` class represents an operator acting on $n$ qubits, defined as a tensor product of Pauli operators with a complex coefficient:\n",
    "\n",
    "$$\n",
    "c \\bigotimes_{i=1}^n \\sigma_i, \\;\\; c \\in \\mathbb{C}, \\;\\; \\sigma_i \\in \\{\\hat{I}, \\hat{X}, \\hat{Y}, \\hat{Z}\\}.\n",
    "$$\n",
    "\n",
    "---\n",
    "\n",
    "## Construction\n",
    "\n",
    "To instantiate the operator \n",
    "$$2i\\,\\hat{X}\\hat{I}\\hat{X}\\hat{Y},$$\n",
    "we do the following, specifying the indices of the qubits on which the operator acts:"
   ]
  },
  {
   "cell_type": "code",
   "execution_count": 2,
   "id": "08bbb5af",
   "metadata": {},
   "outputs": [
    {
     "data": {
      "text/plain": [
       "2j*X1*X3*Y4"
      ]
     },
     "execution_count": 2,
     "metadata": {},
     "output_type": "execute_result"
    }
   ],
   "source": [
    "from magpy import PauliString as PS\n",
    "\n",
    "PS(x={1, 3}, y=4, scale=2j)"
   ]
  },
  {
   "cell_type": "markdown",
   "id": "2c28180d",
   "metadata": {},
   "source": [
    "MagPy also provides four base methods - the Pauli operators and the identity operator - which take the indices of the qubit on which they act as an argument. For a single qubit, we simply supply no argument.\n"
   ]
  },
  {
   "cell_type": "code",
   "execution_count": 3,
   "id": "9f1b4bc1",
   "metadata": {},
   "outputs": [
    {
     "data": {
      "text/plain": [
       "X1"
      ]
     },
     "execution_count": 3,
     "metadata": {},
     "output_type": "execute_result"
    }
   ],
   "source": [
    "from magpy import X, Y, Z, Id\n",
    "\n",
    "X()"
   ]
  },
  {
   "cell_type": "markdown",
   "id": "91d29f2c",
   "metadata": {},
   "source": [
    "Using these methods, we can construct Pauli strings algebraically,"
   ]
  },
  {
   "cell_type": "code",
   "execution_count": 4,
   "id": "0291b2c1",
   "metadata": {},
   "outputs": [
    {
     "data": {
      "text/plain": [
       "2j*X1*X3*Y4"
      ]
     },
     "execution_count": 4,
     "metadata": {},
     "output_type": "execute_result"
    }
   ],
   "source": [
    "2j * X(1) * Id() * X(3) * Y(4)"
   ]
  },
  {
   "cell_type": "markdown",
   "id": "68cde2b0",
   "metadata": {},
   "source": [
    "or, even more concisely,"
   ]
  },
  {
   "cell_type": "code",
   "execution_count": 5,
   "id": "ea1cf57b",
   "metadata": {},
   "outputs": [
    {
     "data": {
      "text/plain": [
       "2j*X1*X3*Y4"
      ]
     },
     "execution_count": 5,
     "metadata": {},
     "output_type": "execute_result"
    }
   ],
   "source": [
    "2j * X(1, 3) * Y(4)"
   ]
  },
  {
   "cell_type": "markdown",
   "id": "a87d027d",
   "metadata": {},
   "source": [
    "where the identity operator is inferred. This is the preferred way of instantiating operators in MagPy.\n",
    "\n",
    "---\n",
    "\n",
    "## Composition\n",
    "\n",
    "As seen above, `PauliString` instances can be composed. MagPy will also automatically simplify a composition of operators.\n",
    "\n",
    "For the operator,\n",
    "\n",
    "$$\n",
    "(\\hat{X}\\hat{X})(\\hat{Y}\\hat{I}) = i\\,\\hat{Z}\\hat{X}\n",
    "$$\n",
    "\n",
    "we write,"
   ]
  },
  {
   "cell_type": "code",
   "execution_count": 10,
   "id": "5c878fb8",
   "metadata": {},
   "outputs": [
    {
     "data": {
      "text/plain": [
       "1j*Z1*X2"
      ]
     },
     "execution_count": 10,
     "metadata": {},
     "output_type": "execute_result"
    }
   ],
   "source": [
    "X(1, 2) * Y()"
   ]
  },
  {
   "cell_type": "markdown",
   "id": "a170f07b",
   "metadata": {},
   "source": [
    "---\n",
    "\n",
    "# Summation\n",
    "\n",
    "Adding together `PauliString` operators will result in either another `PauliString` or a `HamiltonianOperator`, depending on how the summation can be simplified.\n",
    "\n",
    "For example, this operator is another `PauliString`:"
   ]
  },
  {
   "cell_type": "code",
   "execution_count": 7,
   "id": "90b3331e",
   "metadata": {},
   "outputs": [
    {
     "data": {
      "text/plain": [
       "(2+3j)*X1"
      ]
     },
     "execution_count": 7,
     "metadata": {},
     "output_type": "execute_result"
    }
   ],
   "source": [
    "2*X() + 3j*X()\n"
   ]
  },
  {
   "cell_type": "markdown",
   "id": "bc827b99",
   "metadata": {},
   "source": [
    "and this operator is a `HamiltonianOperator`:"
   ]
  },
  {
   "cell_type": "code",
   "execution_count": 8,
   "id": "9ed2ae2a",
   "metadata": {},
   "outputs": [
    {
     "data": {
      "text/plain": [
       "{1: [2*X1, 3j*Y1]}"
      ]
     },
     "execution_count": 8,
     "metadata": {},
     "output_type": "execute_result"
    }
   ],
   "source": [
    "2*X() + 3j*Y()"
   ]
  },
  {
   "cell_type": "markdown",
   "id": "5ba0c9fd",
   "metadata": {},
   "source": [
    "See [here](hamiltonian_operator.ipynb) for more information on the `HamiltonianOperator` class.\n",
    "\n",
    "---\n",
    "\n",
    "# Equality\n",
    "\n",
    "Two `PauliString` instances are equal if they act on the same qubits and have the same coefficients."
   ]
  },
  {
   "cell_type": "code",
   "execution_count": 9,
   "id": "50f55eb1",
   "metadata": {},
   "outputs": [
    {
     "data": {
      "text/plain": [
       "True"
      ]
     },
     "execution_count": 9,
     "metadata": {},
     "output_type": "execute_result"
    }
   ],
   "source": [
    "-X(1) * Y(2) == PS(x=1, y=2, scale=-1)"
   ]
  }
 ],
 "metadata": {
  "kernelspec": {
   "display_name": ".venv",
   "language": "python",
   "name": "python3"
  },
  "language_info": {
   "codemirror_mode": {
    "name": "ipython",
    "version": 3
   },
   "file_extension": ".py",
   "mimetype": "text/x-python",
   "name": "python",
   "nbconvert_exporter": "python",
   "pygments_lexer": "ipython3",
   "version": "3.13.3"
  }
 },
 "nbformat": 4,
 "nbformat_minor": 5
}
