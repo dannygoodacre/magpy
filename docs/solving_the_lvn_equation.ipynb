{
 "cells": [
  {
   "cell_type": "markdown",
   "id": "62162d3b",
   "metadata": {},
   "source": [
    "# Solving the Liouville-von Neumann Equation\n",
    "\n",
    "TODO"
   ]
  }
 ],
 "metadata": {
  "language_info": {
   "name": "python"
  }
 },
 "nbformat": 4,
 "nbformat_minor": 5
}
