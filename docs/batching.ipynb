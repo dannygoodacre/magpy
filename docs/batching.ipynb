{
 "cells": [
  {
   "cell_type": "markdown",
   "id": "02add5d6",
   "metadata": {},
   "source": [
    "# Batching\n",
    "\n",
    "MagPy supports tensor-valued functions and time arguments, batch-evaluating accordingly.\n",
    "\n",
    "For scalar functions and tensor time, the function is evaluated elementwise:"
   ]
  },
  {
   "cell_type": "code",
   "execution_count": 1,
   "id": "e2de534d",
   "metadata": {},
   "outputs": [
    {
     "data": {
      "text/plain": [
       "tensor([[[0.0000+0.j, 0.8415+0.j],\n",
       "         [0.8415+0.j, 0.0000+0.j]],\n",
       "\n",
       "        [[0.0000+0.j, 0.9093+0.j],\n",
       "         [0.9093+0.j, 0.0000+0.j]],\n",
       "\n",
       "        [[0.0000+0.j, 0.1411+0.j],\n",
       "         [0.1411+0.j, 0.0000+0.j]]], dtype=torch.complex128)"
      ]
     },
     "execution_count": 1,
     "metadata": {},
     "output_type": "execute_result"
    }
   ],
   "source": [
    "from torch import tensor, stack, sin, cos\n",
    "from magpy import X, Y, FunctionProduct as FP\n",
    "\n",
    "H = sin*X()\n",
    "\n",
    "H(tensor([1,2,3]))"
   ]
  },
  {
   "cell_type": "markdown",
   "id": "75b01e51",
   "metadata": {},
   "source": [
    "For tensor functions and scalar time, the time argument is repeated:"
   ]
  },
  {
   "cell_type": "code",
   "execution_count": 2,
   "id": "4646eb64",
   "metadata": {},
   "outputs": [
    {
     "data": {
      "text/plain": [
       "tensor([[[0.0000+0.j, 0.8415+0.j],\n",
       "         [0.8415+0.j, 0.0000+0.j]],\n",
       "\n",
       "        [[0.0000+0.j, 1.0000+0.j],\n",
       "         [1.0000+0.j, 0.0000+0.j]]], dtype=torch.complex128)"
      ]
     },
     "execution_count": 2,
     "metadata": {},
     "output_type": "execute_result"
    }
   ],
   "source": [
    "H = (lambda t: stack((sin(t), t))) * X()\n",
    "\n",
    "H(tensor(1))"
   ]
  },
  {
   "cell_type": "markdown",
   "id": "ceef47b4",
   "metadata": {},
   "source": [
    "For tensor functions and tensor time, both are repeated. Note how the first three elements correspond to `sin` and the last three to `t`."
   ]
  },
  {
   "cell_type": "code",
   "execution_count": 3,
   "id": "88481d2c",
   "metadata": {},
   "outputs": [
    {
     "data": {
      "text/plain": [
       "tensor([[[0.0000+0.j, 0.8415+0.j],\n",
       "         [0.8415+0.j, 0.0000+0.j]],\n",
       "\n",
       "        [[0.0000+0.j, 0.9093+0.j],\n",
       "         [0.9093+0.j, 0.0000+0.j]],\n",
       "\n",
       "        [[0.0000+0.j, 0.1411+0.j],\n",
       "         [0.1411+0.j, 0.0000+0.j]],\n",
       "\n",
       "        [[0.0000+0.j, 1.0000+0.j],\n",
       "         [1.0000+0.j, 0.0000+0.j]],\n",
       "\n",
       "        [[0.0000+0.j, 2.0000+0.j],\n",
       "         [2.0000+0.j, 0.0000+0.j]],\n",
       "\n",
       "        [[0.0000+0.j, 3.0000+0.j],\n",
       "         [3.0000+0.j, 0.0000+0.j]]], dtype=torch.complex128)"
      ]
     },
     "execution_count": 3,
     "metadata": {},
     "output_type": "execute_result"
    }
   ],
   "source": [
    "H = (lambda t: stack((sin(t), t))) * X()\n",
    "\n",
    "H(tensor([1,2,3]))"
   ]
  },
  {
   "cell_type": "markdown",
   "id": "35cc17be",
   "metadata": {},
   "source": [
    "When the coefficientf functions are a mix such that the dimension of the largest function is a multiple of the dimension of any other functions, MagPy will repeat accordingly. For example,"
   ]
  },
  {
   "cell_type": "code",
   "execution_count": 4,
   "id": "7c7983bd",
   "metadata": {},
   "outputs": [
    {
     "data": {
      "text/plain": [
       "tensor([[[0.+0.0000j, 2.-0.8415j],\n",
       "         [2.+0.8415j, 0.+0.0000j]],\n",
       "\n",
       "        [[0.+0.0000j, 2.-1.0000j],\n",
       "         [2.+1.0000j, 0.+0.0000j]]], dtype=torch.complex128)"
      ]
     },
     "execution_count": 4,
     "metadata": {},
     "output_type": "execute_result"
    }
   ],
   "source": [
    "H = (lambda t: 2*t)*X() + (lambda t: stack((sin(t), t)))*Y()\n",
    "\n",
    "H(tensor(1))"
   ]
  },
  {
   "cell_type": "markdown",
   "id": "7a69fa7c",
   "metadata": {},
   "source": [
    "Function products may also be batched:"
   ]
  },
  {
   "cell_type": "code",
   "execution_count": 13,
   "id": "e9aea2f0",
   "metadata": {},
   "outputs": [
    {
     "data": {
      "text/plain": [
       "tensor([0.4546, 0.9093])"
      ]
     },
     "execution_count": 13,
     "metadata": {},
     "output_type": "execute_result"
    }
   ],
   "source": [
    "f = FP() * tensor([1,2]) * sin * cos\n",
    "\n",
    "f(tensor(1))"
   ]
  }
 ],
 "metadata": {
  "kernelspec": {
   "display_name": "magpy",
   "language": "python",
   "name": "python3"
  },
  "language_info": {
   "codemirror_mode": {
    "name": "ipython",
    "version": 3
   },
   "file_extension": ".py",
   "mimetype": "text/x-python",
   "name": "python",
   "nbconvert_exporter": "python",
   "pygments_lexer": "ipython3",
   "version": "3.13.3"
  }
 },
 "nbformat": 4,
 "nbformat_minor": 5
}
