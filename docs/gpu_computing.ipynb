{
 "cells": [
  {
   "cell_type": "markdown",
   "id": "66add008",
   "metadata": {},
   "source": [
    "# GPU Computing\n",
    "\n",
    "MagPy supports GPU computing using PyTorch. The `set_default_device` method will internally call PyTorch's own `set_default_device`."
   ]
  },
  {
   "cell_type": "code",
   "execution_count": 5,
   "id": "156b883c",
   "metadata": {},
   "outputs": [
    {
     "data": {
      "text/plain": [
       "device(type='cuda', index=0)"
      ]
     },
     "execution_count": 5,
     "metadata": {},
     "output_type": "execute_result"
    }
   ],
   "source": [
    "from magpy import X, set_default_device\n",
    "from torch import tensor, sin\n",
    "\n",
    "set_default_device('cuda')\n",
    "\n",
    "H = sin*X()\n",
    "\n",
    "H(tensor(2)).device"
   ]
  }
 ],
 "metadata": {
  "kernelspec": {
   "display_name": "magpy",
   "language": "python",
   "name": "python3"
  },
  "language_info": {
   "codemirror_mode": {
    "name": "ipython",
    "version": 3
   },
   "file_extension": ".py",
   "mimetype": "text/x-python",
   "name": "python",
   "nbconvert_exporter": "python",
   "pygments_lexer": "ipython3",
   "version": "3.13.3"
  }
 },
 "nbformat": 4,
 "nbformat_minor": 5
}
