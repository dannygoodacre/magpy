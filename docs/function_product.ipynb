{
 "cells": [
  {
   "cell_type": "markdown",
   "id": "311fe59b",
   "metadata": {},
   "source": [
    "# FunctionProduct\n",
    "\n",
    "This class represents a product of functions with a tensor coefficient."
   ]
  },
  {
   "cell_type": "code",
   "execution_count": 7,
   "id": "b70f9ed4",
   "metadata": {},
   "outputs": [],
   "source": [
    "from magpy import FunctionProduct as FP\n",
    "from torch import sin, cos"
   ]
  },
  {
   "cell_type": "markdown",
   "id": "a2b3bb0b",
   "metadata": {},
   "source": [
    "---\n",
    "\n",
    "# Construction\n",
    "\n",
    "For the function\n",
    "\n",
    "$$f = t^2 \\sin(t) \\cos(t)$$\n",
    "\n",
    "we write"
   ]
  },
  {
   "cell_type": "code",
   "execution_count": 8,
   "id": "4a15483b",
   "metadata": {},
   "outputs": [
    {
     "data": {
      "text/plain": [
       "<lambda>*sin*cos"
      ]
     },
     "execution_count": 8,
     "metadata": {},
     "output_type": "execute_result"
    }
   ],
   "source": [
    "f = FP(lambda t : t**2, sin, cos)\n",
    "\n",
    "f"
   ]
  },
  {
   "cell_type": "markdown",
   "id": "e595c3c5",
   "metadata": {},
   "source": [
    "or"
   ]
  },
  {
   "cell_type": "code",
   "execution_count": 9,
   "id": "e30f0e63",
   "metadata": {},
   "outputs": [
    {
     "data": {
      "text/plain": [
       "<lambda>*sin*cos"
      ]
     },
     "execution_count": 9,
     "metadata": {},
     "output_type": "execute_result"
    }
   ],
   "source": [
    "f = FP() * (lambda t: t**2) * sin * cos\n",
    "\n",
    "f"
   ]
  },
  {
   "cell_type": "markdown",
   "id": "826d5f7d",
   "metadata": {},
   "source": [
    "---\n",
    "\n",
    "# Multiplication\n",
    "\n",
    "Products of function products and tensors behave as expected:\n",
    "\n",
    "$$\n",
    "\\begin{aligned}\n",
    "g &= \\sin^2(t) \\\\\n",
    "h &= \\cos(t) \\sin(t)\n",
    "\\end{aligned}$$\n",
    "\n",
    "$$ 2gh = 2 \\cos(t) \\sin^3(t)$$"
   ]
  },
  {
   "cell_type": "code",
   "execution_count": 10,
   "id": "6c568e7e",
   "metadata": {},
   "outputs": [
    {
     "data": {
      "text/plain": [
       "2*sin^3*cos"
      ]
     },
     "execution_count": 10,
     "metadata": {},
     "output_type": "execute_result"
    }
   ],
   "source": [
    "g = FP() * sin * sin\n",
    "h = FP() * cos * sin\n",
    "\n",
    "2 * g * h"
   ]
  },
  {
   "cell_type": "markdown",
   "id": "abf3ec2d",
   "metadata": {},
   "source": [
    "---\n",
    "\n",
    "### Equality\n",
    "\n",
    "Two FunctionProducts are said to be equal if they share the same functions, exponents, and scalar coefficient.\n",
    "\n",
    "N.B. different definitions of the same function won't necessary be detected as the same function. For example"
   ]
  },
  {
   "cell_type": "code",
   "execution_count": 12,
   "id": "8422e387",
   "metadata": {},
   "outputs": [
    {
     "data": {
      "text/plain": [
       "False"
      ]
     },
     "execution_count": 12,
     "metadata": {},
     "output_type": "execute_result"
    }
   ],
   "source": [
    "FP(sin) == FP(lambda t : sin(t))"
   ]
  }
 ],
 "metadata": {
  "kernelspec": {
   "display_name": "magpy",
   "language": "python",
   "name": "python3"
  },
  "language_info": {
   "codemirror_mode": {
    "name": "ipython",
    "version": 3
   },
   "file_extension": ".py",
   "mimetype": "text/x-python",
   "name": "python",
   "nbconvert_exporter": "python",
   "pygments_lexer": "ipython3",
   "version": "3.13.3"
  }
 },
 "nbformat": 4,
 "nbformat_minor": 5
}
